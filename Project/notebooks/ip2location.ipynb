{
 "cells": [
  {
   "cell_type": "code",
   "execution_count": 4,
   "id": "5682e4a9-f564-44e2-b292-8d4299f5178d",
   "metadata": {},
   "outputs": [],
   "source": [
    "import IP2Location, os\n",
    "\n",
    "\n",
    "def get_location(ip):\n",
    "    '''\n",
    "    Cache the database into memory to accelerate lookup speed.\n",
    "    WARNING: Please make sure your system have sufficient RAM to use this feature.\n",
    "    '''\n",
    "    database = IP2Location.IP2Location(os.path.join(\"..\", \"data\", \"IP2LOCATION-LITE-DB5\", \"IP2LOCATION-LITE-DB5.BIN\"))\n",
    "    print(database)\n",
    "    result = database.get_all(ip)\n",
    "\n",
    "    print(result.country_short)\n",
    "    print(result.country_long)\n",
    "    print(result.region)\n",
    "    print(result.city)\n",
    "    print(result.latitude)\n",
    "    print(result.longitude)\n",
    "    print(result.ip)"
   ]
  },
  {
   "cell_type": "code",
   "execution_count": 5,
   "id": "fd2be3cc-0eea-426e-9714-8af7cce01787",
   "metadata": {},
   "outputs": [
    {
     "name": "stdout",
     "output_type": "stream",
     "text": [
      "<IP2Location.IP2Location object at 0x119092800>\n",
      "US\n",
      "United States of America\n",
      "Missouri\n",
      "Kansas City\n",
      "39.034454\n",
      "-94.572403\n",
      "134.193.148.145\n"
     ]
    }
   ],
   "source": [
    "get_location(\"134.193.148.145\")"
   ]
  },
  {
   "cell_type": "code",
   "execution_count": 7,
   "id": "dab1ad79-dda4-4c75-a09c-1b600e995d72",
   "metadata": {},
   "outputs": [],
   "source": [
    "import pandas as pd\n",
    "def get_loc(ip):\n",
    "    '''Get GEO location of given IP address\n",
    "    \n",
    "    Args:\n",
    "        ip : string: An IP address\n",
    "    \n",
    "    Returns:\n",
    "        Pandas Dataframe with the following columns:\n",
    "            ip            : IP address\n",
    "            country_short : ISO3166-1 country code (2-digits) of the IP address.\n",
    "            country_long  : ISO3166-1 country name of the IP address.\n",
    "            region        : ISO3166-2 region name of the IP address. \n",
    "            city          : City name of the IP address.\n",
    "            latitude      : City latitude of the IP address.\n",
    "            longitude     : City longtitude of the IP address.\n",
    "    \n",
    "    Example:\n",
    "            get_location(\"172.217.168.195\")\n",
    "    '''\n",
    "    ## Cache the database into memory to accelerate lookup speed.\n",
    "    ## WARNING: Please make sure your system have sufficient RAM to use this feature.\n",
    "    database = IP2Location.IP2Location(os.path.join(\"..\", \"data\", \"IP2LOCATION-LITE-DB5\", \"IP2LOCATION-LITE-DB5.BIN\"))\n",
    "    ## Get all information of IP Address\n",
    "    result = database.get_all(ip)\n",
    "    \n",
    "    names = {'country_short': result.country_short,\n",
    "             'country_long': result.country_long,\n",
    "             'region': result.region,\n",
    "             'city': result.city,\n",
    "             'latitude': result.latitude,\n",
    "             'longitude': result.longitude}\n",
    "    \n",
    "    locations = pd.Series(data=names)\n",
    "    return locations"
   ]
  },
  {
   "cell_type": "code",
   "execution_count": 8,
   "id": "a88a80d7-c29e-419a-9d3c-aecff932035d",
   "metadata": {},
   "outputs": [
    {
     "data": {
      "text/plain": [
       "country_short                          US\n",
       "country_long     United States of America\n",
       "region                           Missouri\n",
       "city                          Kansas City\n",
       "latitude                        39.034454\n",
       "longitude                      -94.572403\n",
       "dtype: object"
      ]
     },
     "execution_count": 8,
     "metadata": {},
     "output_type": "execute_result"
    }
   ],
   "source": [
    "get_loc(\"134.193.148.145\")"
   ]
  },
  {
   "cell_type": "code",
   "execution_count": 3,
   "id": "9b948460-e601-447c-aa5e-251925e23b5e",
   "metadata": {},
   "outputs": [
    {
     "name": "stdout",
     "output_type": "stream",
     "text": [
      "<IP2Location.IP2Location object at 0x1133df430>\n"
     ]
    },
    {
     "data": {
      "text/plain": [
       "country_short                          US\n",
       "country_long     United States of America\n",
       "region                           Missouri\n",
       "city                          Kansas City\n",
       "latitude                        39.034454\n",
       "longitude                      -94.572403\n",
       "dtype: object"
      ]
     },
     "execution_count": 3,
     "metadata": {},
     "output_type": "execute_result"
    }
   ],
   "source": [
    "from functions import get_location\n",
    "get_location(\"134.193.148.145\")"
   ]
  },
  {
   "cell_type": "code",
   "execution_count": null,
   "id": "6bf3c4a3-4d8b-4eb7-bcf5-c64dae6d8fef",
   "metadata": {},
   "outputs": [],
   "source": []
  }
 ],
 "metadata": {
  "kernelspec": {
   "display_name": "Python 3",
   "language": "python",
   "name": "python3"
  },
  "language_info": {
   "codemirror_mode": {
    "name": "ipython",
    "version": 3
   },
   "file_extension": ".py",
   "mimetype": "text/x-python",
   "name": "python",
   "nbconvert_exporter": "python",
   "pygments_lexer": "ipython3",
   "version": "3.8.8"
  }
 },
 "nbformat": 4,
 "nbformat_minor": 5
}
